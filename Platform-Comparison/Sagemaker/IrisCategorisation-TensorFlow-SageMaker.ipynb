{
 "cells": [
  {
   "cell_type": "markdown",
   "metadata": {},
   "source": [
    "# Iris Categorisation - TensorFlow - Sagemaker\n",
    "\n",
    "This time we use sagemaker to:\n",
    "\n",
    "- Accelerate training\n",
    "- Deploy the model to an production endpoint"
   ]
  },
  {
   "cell_type": "code",
   "execution_count": 2,
   "metadata": {},
   "outputs": [],
   "source": [
    "import sagemaker\n",
    "from sagemaker.session import Session\n",
    "\n",
    "execution_role = sagemaker.get_execution_role()\n",
    "sm_session = Session()\n",
    "bucket = sm_session.default_bucket()"
   ]
  },
  {
   "cell_type": "markdown",
   "metadata": {},
   "source": [
    "## Preparation\n",
    "\n",
    "Only do this once, to make the data available for any container running the model\n",
    "\n",
    "No need to get the csv files if they already exist"
   ]
  },
  {
   "cell_type": "code",
   "execution_count": 1,
   "metadata": {},
   "outputs": [
    {
     "name": "stdout",
     "output_type": "stream",
     "text": [
      "iris_test.csv  iris_training.csv  validation_data.hdf\r\n"
     ]
    }
   ],
   "source": [
    "!ls  ../data"
   ]
  },
  {
   "cell_type": "code",
   "execution_count": 15,
   "metadata": {},
   "outputs": [],
   "source": [
    "# Upload the locally stored data to the sagemaker default bucket\n",
    "s3_data = sm_session.upload_data(path='../data', key_prefix='iris/data')"
   ]
  },
  {
   "cell_type": "code",
   "execution_count": 17,
   "metadata": {},
   "outputs": [
    {
     "name": "stdout",
     "output_type": "stream",
     "text": [
      "2018-10-10 08:04:24        573 iris_test.csv\r\n",
      "2018-10-10 08:04:24       2194 iris_training.csv\r\n"
     ]
    }
   ],
   "source": [
    "!aws s3 ls {s3_data}/"
   ]
  },
  {
   "cell_type": "markdown",
   "metadata": {},
   "source": [
    "## Run locally\n",
    "\n",
    "Test the training script to ensure it compiles and runs before registering a full training job."
   ]
  },
  {
   "cell_type": "code",
   "execution_count": 10,
   "metadata": {},
   "outputs": [],
   "source": [
    "import sys\n",
    "import os\n",
    "import tensorflow as tf\n",
    "sys.path.append('../package')\n",
    "\n",
    "from trainer.model import estimator_fn, _input_fn, serving_input_fn"
   ]
  },
  {
   "cell_type": "code",
   "execution_count": 11,
   "metadata": {},
   "outputs": [],
   "source": [
    "outdir = '/tmp/sagemaker/iris/out'\n",
    "\n",
    "config = {\n",
    "    'train_file': os.path.join(os.getcwd(), '../data/iris_training.csv'),\n",
    "    'test_file': os.path.join(os.getcwd(), '../data/iris_test.csv'),\n",
    "    'train_steps': 10,  # Train with trivially small number of steps at this stage\n",
    "}"
   ]
  },
  {
   "cell_type": "code",
   "execution_count": 16,
   "metadata": {},
   "outputs": [],
   "source": [
    "!mkdir -p {outdir}"
   ]
  },
  {
   "cell_type": "markdown",
   "metadata": {},
   "source": [
    "It is not clear exactly what process Sagemaker uses to run the training job but hopefully its something similar."
   ]
  },
  {
   "cell_type": "code",
   "execution_count": 23,
   "metadata": {},
   "outputs": [
    {
     "name": "stdout",
     "output_type": "stream",
     "text": [
      "Defining training spec\n",
      "Expecting data from:  /home/ec2-user/SageMaker/Cloud-Data-Science/Platform-Comparison/Sagemaker/../data/iris_training.csv\n",
      "Defining eval spec\n",
      "Expecting data from:  /home/ec2-user/SageMaker/Cloud-Data-Science/Platform-Comparison/Sagemaker/../data/iris_test.csv\n",
      "Starting training ...\n"
     ]
    },
    {
     "name": "stderr",
     "output_type": "stream",
     "text": [
      "WARNING:tensorflow:Export includes no default signature!\n"
     ]
    },
    {
     "name": "stdout",
     "output_type": "stream",
     "text": [
      "Finished training\n"
     ]
    }
   ],
   "source": [
    "est = estimator_fn(output_dir=outdir)\n",
    "\n",
    "print('Defining training spec')\n",
    "train_spec = tf.estimator.TrainSpec(\n",
    "    input_fn=_input_fn('train', data_path='/tmp', data_filename=config['train_file']),\n",
    "    max_steps=config['train_steps'],\n",
    ")\n",
    "\n",
    "print('Defining eval spec')\n",
    "eval_spec = tf.estimator.EvalSpec(\n",
    "    input_fn=_input_fn('eval', data_path='/tmp', data_filename=config['test_file']),\n",
    "    steps=None,\n",
    "    start_delay_secs=0,\n",
    "    throttle_secs=1,\n",
    "    exporters=tf.estimator.LatestExporter('exporter', serving_input_fn),\n",
    ")\n",
    "\n",
    "print('Starting training ...')\n",
    "\n",
    "tf.estimator.train_and_evaluate(est, train_spec, eval_spec)\n",
    "print('Finished training')"
   ]
  },
  {
   "cell_type": "code",
   "execution_count": 18,
   "metadata": {},
   "outputs": [
    {
     "name": "stdout",
     "output_type": "stream",
     "text": [
      "checkpoint\r\n",
      "\u001b[0m\u001b[01;34meval\u001b[0m/\r\n",
      "events.out.tfevents.1539158870.ip-172-16-27-120\r\n",
      "\u001b[01;34mexport\u001b[0m/\r\n",
      "graph.pbtxt\r\n",
      "model.ckpt-10.data-00000-of-00001\r\n",
      "model.ckpt-10.index\r\n",
      "model.ckpt-10.meta\r\n",
      "model.ckpt-1.data-00000-of-00001\r\n",
      "model.ckpt-1.index\r\n"
     ]
    }
   ],
   "source": [
    "ls {outdir} | head"
   ]
  },
  {
   "cell_type": "markdown",
   "metadata": {},
   "source": [
    "It complies and produces output.  We'll train it more comprehensively in the cloud."
   ]
  },
  {
   "cell_type": "markdown",
   "metadata": {},
   "source": [
    "## Train"
   ]
  },
  {
   "cell_type": "code",
   "execution_count": 38,
   "metadata": {},
   "outputs": [],
   "source": [
    "from sagemaker.tensorflow import TensorFlow\n",
    "\n",
    "#Bucket location to save your custom code in tar.gz format.\n",
    "custom_code_upload_location = 's3://{}/iris/code'.format(bucket)\n",
    "#Bucket location where results of model training are saved.\n",
    "model_artifacts_location = 's3://{}/iris/artifacts'.format(bucket)"
   ]
  },
  {
   "cell_type": "code",
   "execution_count": 40,
   "metadata": {},
   "outputs": [],
   "source": [
    "estimator = TensorFlow(entry_point='../package/trainer/model.py',\n",
    "                       role=execution_role,\n",
    "                       framework_version='1.10',\n",
    "                       output_path=model_artifacts_location,\n",
    "                       code_location=custom_code_upload_location,\n",
    "                       train_instance_count=1,\n",
    "                       training_steps=100,\n",
    "                       evaluation_steps=10,\n",
    "                       train_instance_type='ml.c4.xlarge')"
   ]
  },
  {
   "cell_type": "code",
   "execution_count": 41,
   "metadata": {
    "collapsed": true
   },
   "outputs": [
    {
     "name": "stderr",
     "output_type": "stream",
     "text": [
      "INFO:sagemaker:Creating training-job with name: sagemaker-tensorflow-2018-10-10-08-17-27-885\n"
     ]
    },
    {
     "name": "stdout",
     "output_type": "stream",
     "text": [
      "2018-10-10 08:17:28 Starting - Starting the training job...\n",
      "Launching requested ML instances......\n",
      "Preparing the instances for training......\n",
      "2018-10-10 08:19:38 Downloading - Downloading input data\n",
      "2018-10-10 08:19:53 Training - Downloading the training image..\n",
      "\u001b[31m2018-10-10 08:20:09,859 INFO - root - running container entrypoint\u001b[0m\n",
      "\u001b[31m2018-10-10 08:20:09,859 INFO - root - starting train task\u001b[0m\n",
      "\u001b[31m2018-10-10 08:20:09,864 INFO - container_support.training - Training starting\u001b[0m\n",
      "\u001b[31m2018-10-10 08:20:12,520 INFO - tf_container - ----------------------TF_CONFIG--------------------------\u001b[0m\n",
      "\u001b[31m2018-10-10 08:20:12,520 INFO - tf_container - {\"environment\": \"cloud\", \"cluster\": {\"master\": [\"algo-1:2222\"]}, \"task\": {\"index\": 0, \"type\": \"master\"}}\u001b[0m\n",
      "\u001b[31m2018-10-10 08:20:12,520 INFO - tf_container - ---------------------------------------------------------\u001b[0m\n",
      "\u001b[31m2018-10-10 08:20:12,520 INFO - tf_container - creating RunConfig:\u001b[0m\n",
      "\u001b[31m2018-10-10 08:20:12,520 INFO - tf_container - {'save_checkpoints_secs': 300}\u001b[0m\n",
      "\u001b[31m2018-10-10 08:20:12,520 INFO - tensorflow - TF_CONFIG environment variable: {u'environment': u'cloud', u'cluster': {u'master': [u'algo-1:2222']}, u'task': {u'index': 0, u'type': u'master'}}\u001b[0m\n",
      "\u001b[31m2018-10-10 08:20:12,521 INFO - tf_container - invoking the user-provided estimator_fn\u001b[0m\n",
      "\u001b[31m2018-10-10 08:20:12,521 INFO - tensorflow - Using config: {'_save_checkpoints_secs': 300, '_global_id_in_cluster': 0, '_session_config': device_filters: \"/job:ps\"\u001b[0m\n",
      "\u001b[31mdevice_filters: \"/job:master\"\u001b[0m\n",
      "\u001b[31mallow_soft_placement: true\u001b[0m\n",
      "\u001b[31mgraph_options {\n",
      "  rewrite_options {\n",
      "    meta_optimizer_iterations: ONE\n",
      "  }\u001b[0m\n",
      "\u001b[31m}\u001b[0m\n",
      "\u001b[31m, '_keep_checkpoint_max': 5, '_tf_random_seed': None, '_task_type': u'master', '_train_distribute': None, '_is_chief': True, '_cluster_spec': <tensorflow.python.training.server_lib.ClusterSpec object at 0x7fad37e34ed0>, '_model_dir': u's3://sagemaker-ap-southeast-2-167464700695/iris/artifacts/sagemaker-tensorflow-2018-10-10-08-17-27-885/checkpoints', '_num_worker_replicas': 1, '_task_id': 0, '_log_step_count_steps': 100, '_master': '', '_save_checkpoints_steps': None, '_keep_checkpoint_every_n_hours': 10000, '_evaluation_master': '', '_service': None, '_device_fn': None, '_save_summary_steps': 100, '_num_ps_replicas': 0}\u001b[0m\n",
      "\u001b[31m2018-10-10 08:20:12,522 INFO - tensorflow - Skip starting Tensorflow server as there is only one node in the cluster.\u001b[0m\n",
      "\u001b[31m2018-10-10 08:20:12.533502: I tensorflow/core/platform/s3/aws_logging.cc:54] Initializing config loader against fileName /root//.aws/config and using profilePrefix = 1\u001b[0m\n",
      "\u001b[31m2018-10-10 08:20:12.533532: I tensorflow/core/platform/s3/aws_logging.cc:54] Initializing config loader against fileName /root//.aws/credentials and using profilePrefix = 0\u001b[0m\n",
      "\u001b[31m2018-10-10 08:20:12.533547: I tensorflow/core/platform/s3/aws_logging.cc:54] Setting provider to read credentials from /root//.aws/credentials for credentials file and /root//.aws/config for the config file , for use with profile default\u001b[0m\n",
      "\u001b[31m2018-10-10 08:20:12.533559: I tensorflow/core/platform/s3/aws_logging.cc:54] Creating HttpClient with max connections2 and scheme http\u001b[0m\n",
      "\u001b[31m2018-10-10 08:20:12.533577: I tensorflow/core/platform/s3/aws_logging.cc:54] Initializing CurlHandleContainer with size 2\u001b[0m\n",
      "\u001b[31m2018-10-10 08:20:12.533597: I tensorflow/core/platform/s3/aws_logging.cc:54] Creating TaskRole with default ECSCredentialsClient and refresh rate 900000\u001b[0m\n",
      "\u001b[31m2018-10-10 08:20:12.534104: I tensorflow/core/platform/s3/aws_logging.cc:54] Unable to open config file /root//.aws/credentials for reading.\u001b[0m\n",
      "\u001b[31m2018-10-10 08:20:12.534122: I tensorflow/core/platform/s3/aws_logging.cc:54] Failed to reload configuration.\u001b[0m\n",
      "\u001b[31m2018-10-10 08:20:12.534135: I tensorflow/core/platform/s3/aws_logging.cc:54] Unable to open config file /root//.aws/config for reading.\u001b[0m\n",
      "\u001b[31m2018-10-10 08:20:12.534143: I tensorflow/core/platform/s3/aws_logging.cc:54] Failed to reload configuration.\u001b[0m\n",
      "\u001b[31m2018-10-10 08:20:12.534169: I tensorflow/core/platform/s3/aws_logging.cc:54] Credentials have expired or will expire, attempting to repull from ECS IAM Service.\u001b[0m\n",
      "\u001b[31m2018-10-10 08:20:12.534272: I tensorflow/core/platform/s3/aws_logging.cc:54] Pool grown by 2\u001b[0m\n",
      "\u001b[31m2018-10-10 08:20:12.534288: I tensorflow/core/platform/s3/aws_logging.cc:54] Connection has been released. Continuing.\u001b[0m\n",
      "\u001b[31m2018-10-10 08:20:12.537601: I tensorflow/core/platform/s3/aws_logging.cc:54] Initializing CurlHandleContainer with size 25\u001b[0m\n",
      "\u001b[31m2018-10-10 08:20:12.539481: I tensorflow/core/platform/s3/aws_logging.cc:54] Pool grown by 2\u001b[0m\n",
      "\u001b[31m2018-10-10 08:20:12.539501: I tensorflow/core/platform/s3/aws_logging.cc:54] Connection has been released. Continuing.\u001b[0m\n",
      "\u001b[31m2018-10-10 08:20:12.631960: E tensorflow/core/platform/s3/aws_logging.cc:60] No response body. Response code: 404\u001b[0m\n",
      "\u001b[31m2018-10-10 08:20:12.632004: W tensorflow/core/platform/s3/aws_logging.cc:57] If the signature check failed. This could be because of a time skew. Attempting to adjust the signer.\u001b[0m\n",
      "\u001b[31m2018-10-10 08:20:12.633271: I tensorflow/core/platform/s3/aws_logging.cc:54] Connection has been released. Continuing.\u001b[0m\n",
      "\u001b[31m2018-10-10 08:20:12,710 INFO - tensorflow - Calling model_fn.\u001b[0m\n",
      "\u001b[31m2018-10-10 08:20:12,995 INFO - tensorflow - Done calling model_fn.\u001b[0m\n",
      "\u001b[31m2018-10-10 08:20:12,995 INFO - tensorflow - Create CheckpointSaverHook.\u001b[0m\n",
      "\u001b[31m2018-10-10 08:20:12.995749: I tensorflow/core/platform/s3/aws_logging.cc:54] Connection has been released. Continuing.\u001b[0m\n",
      "\u001b[31m2018-10-10 08:20:13.006753: E tensorflow/core/platform/s3/aws_logging.cc:60] No response body. Response code: 404\u001b[0m\n",
      "\u001b[31m2018-10-10 08:20:13.006786: W tensorflow/core/platform/s3/aws_logging.cc:57] If the signature check failed. This could be because of a time skew. Attempting to adjust the signer.\u001b[0m\n",
      "\u001b[31m2018-10-10 08:20:13.006928: I tensorflow/core/platform/s3/aws_logging.cc:54] Connection has been released. Continuing.\u001b[0m\n",
      "\u001b[31m2018-10-10 08:20:13.016139: I tensorflow/core/platform/s3/aws_logging.cc:54] Connection has been released. Continuing.\u001b[0m\n",
      "\u001b[31m2018-10-10 08:20:13.023099: E tensorflow/core/platform/s3/aws_logging.cc:60] No response body. Response code: 404\u001b[0m\n",
      "\u001b[31m2018-10-10 08:20:13.023133: W tensorflow/core/platform/s3/aws_logging.cc:57] If the signature check failed. This could be because of a time skew. Attempting to adjust the signer.\u001b[0m\n",
      "\u001b[31m2018-10-10 08:20:13.023275: I tensorflow/core/platform/s3/aws_logging.cc:54] Connection has been released. Continuing.\u001b[0m\n",
      "\u001b[31m2018-10-10 08:20:13.037848: I tensorflow/core/platform/s3/aws_logging.cc:54] Connection has been released. Continuing.\u001b[0m\n",
      "\u001b[31m2018-10-10 08:20:13.045507: E tensorflow/core/platform/s3/aws_logging.cc:60] No response body. Response code: 404\u001b[0m\n",
      "\u001b[31m2018-10-10 08:20:13.045544: W tensorflow/core/platform/s3/aws_logging.cc:57] If the signature check failed. This could be because of a time skew. Attempting to adjust the signer.\u001b[0m\n",
      "\u001b[31m2018-10-10 08:20:13.045691: I tensorflow/core/platform/s3/aws_logging.cc:54] Connection has been released. Continuing.\u001b[0m\n",
      "\u001b[31m2018-10-10 08:20:13.057605: I tensorflow/core/platform/s3/aws_logging.cc:54] Connection has been released. Continuing.\u001b[0m\n",
      "\u001b[31m2018-10-10 08:20:13.068044: E tensorflow/core/platform/s3/aws_logging.cc:60] No response body. Response code: 404\u001b[0m\n",
      "\u001b[31m2018-10-10 08:20:13.068074: W tensorflow/core/platform/s3/aws_logging.cc:57] If the signature check failed. This could be because of a time skew. Attempting to adjust the signer.\u001b[0m\n",
      "\u001b[31m2018-10-10 08:20:13.068213: I tensorflow/core/platform/s3/aws_logging.cc:54] Connection has been released. Continuing.\u001b[0m\n",
      "\u001b[31m2018-10-10 08:20:13.087045: I tensorflow/core/platform/s3/aws_logging.cc:54] Connection has been released. Continuing.\u001b[0m\n",
      "\u001b[31m2018-10-10 08:20:13.098100: I tensorflow/core/platform/s3/aws_logging.cc:54] Deleting file: /tmp/s3_filesystem_XXXXXX20181010T0820131539159613086\u001b[0m\n",
      "\u001b[31m2018-10-10 08:20:13.098311: I tensorflow/core/platform/s3/aws_logging.cc:54] Connection has been released. Continuing.\u001b[0m\n",
      "\u001b[31m2018-10-10 08:20:13.110328: I tensorflow/core/platform/s3/aws_logging.cc:54] Deleting file: /tmp/s3_filesystem_XXXXXX20181010T0820131539159613098\u001b[0m\n",
      "\u001b[31m2018-10-10 08:20:13.131310: I tensorflow/core/platform/s3/aws_logging.cc:54] Connection has been released. Continuing.\u001b[0m\n",
      "\u001b[31m2018-10-10 08:20:13.146995: I tensorflow/core/platform/s3/aws_logging.cc:54] Connection has been released. Continuing.\u001b[0m\n",
      "\u001b[31m2018-10-10 08:20:13.155683: I tensorflow/core/platform/s3/aws_logging.cc:54] Connection has been released. Continuing.\u001b[0m\n",
      "\u001b[31m2018-10-10 08:20:13.170090: I tensorflow/core/platform/s3/aws_logging.cc:54] Connection has been released. Continuing.\u001b[0m\n",
      "\u001b[31m2018-10-10 08:20:13.206387: I tensorflow/core/platform/s3/aws_logging.cc:54] Connection has been released. Continuing.\u001b[0m\n",
      "\u001b[31m2018-10-10 08:20:13.220131: I tensorflow/core/platform/s3/aws_logging.cc:54] Connection has been released. Continuing.\u001b[0m\n",
      "\u001b[31m2018-10-10 08:20:13,336 INFO - tensorflow - Graph was finalized.\u001b[0m\n",
      "\u001b[31m2018-10-10 08:20:13.342722: I tensorflow/core/common_runtime/process_util.cc:71] Creating new thread pool with default inter op setting: 2. Tune using inter_op_parallelism_threads for best performance.\u001b[0m\n",
      "\u001b[31m2018-10-10 08:20:13.342980: I tensorflow/core/platform/s3/aws_logging.cc:54] Connection has been released. Continuing.\u001b[0m\n",
      "\u001b[31m2018-10-10 08:20:13.349289: E tensorflow/core/platform/s3/aws_logging.cc:60] No response body. Response code: 404\u001b[0m\n",
      "\u001b[31m2018-10-10 08:20:13.349316: W tensorflow/core/platform/s3/aws_logging.cc:57] If the signature check failed. This could be because of a time skew. Attempting to adjust the signer.\u001b[0m\n",
      "\u001b[31m2018-10-10 08:20:13.349456: I tensorflow/core/platform/s3/aws_logging.cc:54] Connection has been released. Continuing.\u001b[0m\n",
      "\u001b[31m2018-10-10 08:20:13,451 INFO - tensorflow - Running local_init_op.\u001b[0m\n",
      "\u001b[31m2018-10-10 08:20:13,456 INFO - tensorflow - Done running local_init_op.\u001b[0m\n",
      "\u001b[31m2018-10-10 08:20:13.518726: I tensorflow/core/platform/s3/aws_logging.cc:54] Connection has been released. Continuing.\u001b[0m\n",
      "\u001b[31m2018-10-10 08:20:13.526005: E tensorflow/core/platform/s3/aws_logging.cc:60] No response body. Response code: 404\u001b[0m\n",
      "\u001b[31m2018-10-10 08:20:13.526070: W tensorflow/core/platform/s3/aws_logging.cc:57] If the signature check failed. This could be because of a time skew. Attempting to adjust the signer.\u001b[0m\n",
      "\u001b[31m2018-10-10 08:20:13.526281: I tensorflow/core/platform/s3/aws_logging.cc:54] Connection has been released. Continuing.\u001b[0m\n",
      "\u001b[31m2018-10-10 08:20:13.652251: I tensorflow/core/platform/s3/aws_logging.cc:54] Connection has been released. Continuing.\u001b[0m\n",
      "\u001b[31m2018-10-10 08:20:13.686724: I tensorflow/core/platform/s3/aws_logging.cc:54] Deleting file: /tmp/s3_filesystem_XXXXXX20181010T0820131539159613651\u001b[0m\n",
      "\u001b[31m2018-10-10 08:20:13.687731: I tensorflow/core/platform/s3/aws_logging.cc:54] Connection has been released. Continuing.\u001b[0m\n",
      "\u001b[31m2018-10-10 08:20:13.734934: I tensorflow/core/platform/s3/aws_logging.cc:54] Connection has been released. Continuing.\u001b[0m\n",
      "\u001b[31m2018-10-10 08:20:13.786328: I tensorflow/core/platform/s3/aws_logging.cc:54] Connection has been released. Continuing.\u001b[0m\n",
      "\u001b[31m2018-10-10 08:20:13,841 INFO - tensorflow - Saving checkpoints for 0 into s3://sagemaker-ap-southeast-2-167464700695/iris/artifacts/sagemaker-tensorflow-2018-10-10-08-17-27-885/checkpoints/model.ckpt.\u001b[0m\n",
      "\u001b[31m2018-10-10 08:20:13.861223: I tensorflow/core/platform/s3/aws_logging.cc:54] Connection has been released. Continuing.\u001b[0m\n",
      "\u001b[31m2018-10-10 08:20:13.872437: I tensorflow/core/platform/s3/aws_logging.cc:54] Deleting file: /tmp/s3_filesystem_XXXXXX20181010T0820131539159613861\u001b[0m\n",
      "\u001b[31m2018-10-10 08:20:13.876472: I tensorflow/core/platform/s3/aws_logging.cc:54] Connection has been released. Continuing.\u001b[0m\n",
      "\u001b[31m2018-10-10 08:20:13.894646: I tensorflow/core/platform/s3/aws_logging.cc:54] Deleting file: /tmp/s3_filesystem_XXXXXX20181010T0820131539159613872\u001b[0m\n",
      "\u001b[31m2018-10-10 08:20:13.895148: I tensorflow/core/platform/s3/aws_logging.cc:54] Connection has been released. Continuing.\u001b[0m\n",
      "\u001b[31m2018-10-10 08:20:13.909130: I tensorflow/core/platform/s3/aws_logging.cc:54] Connection has been released. Continuing.\u001b[0m\n",
      "\u001b[31m2018-10-10 08:20:13.936369: I tensorflow/core/platform/s3/aws_logging.cc:54] Connection has been released. Continuing.\u001b[0m\n",
      "\u001b[31m2018-10-10 08:20:13.947732: I tensorflow/core/platform/s3/aws_logging.cc:54] Connection has been released. Continuing.\u001b[0m\n",
      "\u001b[31m2018-10-10 08:20:13.967373: I tensorflow/core/platform/s3/aws_logging.cc:54] Deleting file: /tmp/s3_filesystem_XXXXXX20181010T0820131539159613947\u001b[0m\n",
      "\u001b[31m2018-10-10 08:20:13.967643: I tensorflow/core/platform/s3/aws_logging.cc:54] Connection has been released. Continuing.\u001b[0m\n",
      "\u001b[31m2018-10-10 08:20:13.982435: I tensorflow/core/platform/s3/aws_logging.cc:54] Connection has been released. Continuing.\u001b[0m\n",
      "\u001b[31m2018-10-10 08:20:14.014350: I tensorflow/core/platform/s3/aws_logging.cc:54] Connection has been released. Continuing.\u001b[0m\n",
      "\u001b[31m2018-10-10 08:20:14.024898: I tensorflow/core/platform/s3/aws_logging.cc:54] Connection has been released. Continuing.\u001b[0m\n",
      "\u001b[31m2018-10-10 08:20:14.034935: I tensorflow/core/platform/s3/aws_logging.cc:54] Deleting file: /tmp/s3_filesystem_XXXXXX20181010T0820141539159614024\u001b[0m\n",
      "\u001b[31m2018-10-10 08:20:14.035160: I tensorflow/core/platform/s3/aws_logging.cc:54] Connection has been released. Continuing.\u001b[0m\n",
      "\u001b[31m2018-10-10 08:20:14.045591: I tensorflow/core/platform/s3/aws_logging.cc:54] Connection has been released. Continuing.\u001b[0m\n",
      "\u001b[31m2018-10-10 08:20:14.056676: I tensorflow/core/platform/s3/aws_logging.cc:54] Connection has been released. Continuing.\u001b[0m\n",
      "\u001b[31m2018-10-10 08:20:14.098892: I tensorflow/core/platform/s3/aws_logging.cc:54] Connection has been released. Continuing.\u001b[0m\n",
      "\u001b[31m2018-10-10 08:20:14.111437: I tensorflow/core/platform/s3/aws_logging.cc:54] Connection has been released. Continuing.\u001b[0m\n",
      "\u001b[31m2018-10-10 08:20:14.123029: I tensorflow/core/platform/s3/aws_logging.cc:54] Connection has been released. Continuing.\u001b[0m\n",
      "\u001b[31m2018-10-10 08:20:14.138218: I tensorflow/core/platform/s3/aws_logging.cc:54] Connection has been released. Continuing.\u001b[0m\n",
      "\u001b[31m2018-10-10 08:20:14.340142: I tensorflow/core/platform/s3/aws_logging.cc:54] Connection has been released. Continuing.\u001b[0m\n",
      "\u001b[31m2018-10-10 08:20:14.350623: I tensorflow/core/platform/s3/aws_logging.cc:54] Connection has been released. Continuing.\u001b[0m\n",
      "\u001b[31m2018-10-10 08:20:14.372782: I tensorflow/core/platform/s3/aws_logging.cc:54] Deleting file: /tmp/s3_filesystem_XXXXXX20181010T0820141539159614350\u001b[0m\n",
      "\u001b[31m2018-10-10 08:20:14.373036: I tensorflow/core/platform/s3/aws_logging.cc:54] Connection has been released. Continuing.\u001b[0m\n",
      "\u001b[31m2018-10-10 08:20:14.384893: I tensorflow/core/platform/s3/aws_logging.cc:54] Connection has been released. Continuing.\u001b[0m\n",
      "\u001b[31m2018-10-10 08:20:14.400147: I tensorflow/core/platform/s3/aws_logging.cc:54] Connection has been released. Continuing.\u001b[0m\n",
      "\u001b[31m2018-10-10 08:20:14.411129: I tensorflow/core/platform/s3/aws_logging.cc:54] Connection has been released. Continuing.\u001b[0m\n",
      "\u001b[31m2018-10-10 08:20:14.430564: I tensorflow/core/platform/s3/aws_logging.cc:54] Deleting file: /tmp/s3_filesystem_XXXXXX20181010T0820141539159614410\u001b[0m\n",
      "\u001b[31m2018-10-10 08:20:14.430776: I tensorflow/core/platform/s3/aws_logging.cc:54] Connection has been released. Continuing.\u001b[0m\n",
      "\u001b[31m2018-10-10 08:20:14.443542: I tensorflow/core/platform/s3/aws_logging.cc:54] Connection has been released. Continuing.\u001b[0m\n",
      "\u001b[31m2018-10-10 08:20:14.473397: I tensorflow/core/platform/s3/aws_logging.cc:54] Connection has been released. Continuing.\u001b[0m\n",
      "\u001b[31m2018-10-10 08:20:14.507597: I tensorflow/core/platform/s3/aws_logging.cc:54] Connection has been released. Continuing.\u001b[0m\n",
      "\u001b[31m2018-10-10 08:20:14.535131: E tensorflow/core/platform/s3/aws_logging.cc:60] No response body. Response code: 404\u001b[0m\n",
      "\u001b[31m2018-10-10 08:20:14.535159: W tensorflow/core/platform/s3/aws_logging.cc:57] If the signature check failed. This could be because of a time skew. Attempting to adjust the signer.\u001b[0m\n",
      "\u001b[31m2018-10-10 08:20:14.535312: I tensorflow/core/platform/s3/aws_logging.cc:54] Connection has been released. Continuing.\u001b[0m\n",
      "\u001b[31m2018-10-10 08:20:14.574067: I tensorflow/core/platform/s3/aws_logging.cc:54] Connection has been released. Continuing.\u001b[0m\n",
      "\u001b[31m2018-10-10 08:20:14.622777: I tensorflow/core/platform/s3/aws_logging.cc:54] Deleting file: /tmp/s3_filesystem_XXXXXX20181010T0820141539159614573\u001b[0m\n",
      "\u001b[31m2018-10-10 08:20:14.622988: I tensorflow/core/platform/s3/aws_logging.cc:54] Connection has been released. Continuing.\u001b[0m\n",
      "\u001b[31m2018-10-10 08:20:14.657934: I tensorflow/core/platform/s3/aws_logging.cc:54] Connection has been released. Continuing.\u001b[0m\n",
      "\u001b[31m2018-10-10 08:20:14.690362: I tensorflow/core/platform/s3/aws_logging.cc:54] Connection has been released. Continuing.\u001b[0m\n",
      "\u001b[31m2018-10-10 08:20:14,922 INFO - tensorflow - loss = 153.99463, step = 1\u001b[0m\n",
      "\u001b[31m2018-10-10 08:20:15,426 INFO - tensorflow - Saving checkpoints for 100 into s3://sagemaker-ap-southeast-2-167464700695/iris/artifacts/sagemaker-tensorflow-2018-10-10-08-17-27-885/checkpoints/model.ckpt.\u001b[0m\n",
      "\u001b[31m2018-10-10 08:20:15.427472: I tensorflow/core/platform/s3/aws_logging.cc:54] Connection has been released. Continuing.\u001b[0m\n",
      "\u001b[31m2018-10-10 08:20:15.439165: I tensorflow/core/platform/s3/aws_logging.cc:54] Deleting file: /tmp/s3_filesystem_XXXXXX20181010T0820151539159615427\u001b[0m\n",
      "\u001b[31m2018-10-10 08:20:15.443245: I tensorflow/core/platform/s3/aws_logging.cc:54] Connection has been released. Continuing.\u001b[0m\n",
      "\u001b[31m2018-10-10 08:20:15.461810: I tensorflow/core/platform/s3/aws_logging.cc:54] Deleting file: /tmp/s3_filesystem_XXXXXX20181010T0820151539159615439\u001b[0m\n",
      "\u001b[31m2018-10-10 08:20:15.461992: I tensorflow/core/platform/s3/aws_logging.cc:54] Connection has been released. Continuing.\u001b[0m\n",
      "\u001b[31m2018-10-10 08:20:15.475033: I tensorflow/core/platform/s3/aws_logging.cc:54] Connection has been released. Continuing.\u001b[0m\n",
      "\u001b[31m2018-10-10 08:20:15.501122: I tensorflow/core/platform/s3/aws_logging.cc:54] Connection has been released. Continuing.\u001b[0m\n",
      "\u001b[31m2018-10-10 08:20:15.513519: I tensorflow/core/platform/s3/aws_logging.cc:54] Connection has been released. Continuing.\u001b[0m\n",
      "\u001b[31m2018-10-10 08:20:15.535644: I tensorflow/core/platform/s3/aws_logging.cc:54] Deleting file: /tmp/s3_filesystem_XXXXXX20181010T0820151539159615513\u001b[0m\n",
      "\u001b[31m2018-10-10 08:20:15.535825: I tensorflow/core/platform/s3/aws_logging.cc:54] Connection has been released. Continuing.\u001b[0m\n",
      "\u001b[31m2018-10-10 08:20:15.549072: I tensorflow/core/platform/s3/aws_logging.cc:54] Connection has been released. Continuing.\u001b[0m\n",
      "\u001b[31m2018-10-10 08:20:15.578207: I tensorflow/core/platform/s3/aws_logging.cc:54] Connection has been released. Continuing.\u001b[0m\n",
      "\u001b[31m2018-10-10 08:20:15.588640: I tensorflow/core/platform/s3/aws_logging.cc:54] Connection has been released. Continuing.\u001b[0m\n",
      "\u001b[31m2018-10-10 08:20:15.599927: I tensorflow/core/platform/s3/aws_logging.cc:54] Deleting file: /tmp/s3_filesystem_XXXXXX20181010T0820151539159615588\u001b[0m\n",
      "\u001b[31m2018-10-10 08:20:15.600104: I tensorflow/core/platform/s3/aws_logging.cc:54] Connection has been released. Continuing.\u001b[0m\n",
      "\u001b[31m2018-10-10 08:20:15.609322: I tensorflow/core/platform/s3/aws_logging.cc:54] Connection has been released. Continuing.\u001b[0m\n",
      "\u001b[31m2018-10-10 08:20:15.621439: I tensorflow/core/platform/s3/aws_logging.cc:54] Connection has been released. Continuing.\u001b[0m\n",
      "\u001b[31m2018-10-10 08:20:15.633566: I tensorflow/core/platform/s3/aws_logging.cc:54] Connection has been released. Continuing.\u001b[0m\n",
      "\u001b[31m2018-10-10 08:20:15.647715: I tensorflow/core/platform/s3/aws_logging.cc:54] Connection has been released. Continuing.\u001b[0m\n",
      "\u001b[31m2018-10-10 08:20:15.660741: I tensorflow/core/platform/s3/aws_logging.cc:54] Connection has been released. Continuing.\u001b[0m\n",
      "\u001b[31m2018-10-10 08:20:15.675165: I tensorflow/core/platform/s3/aws_logging.cc:54] Connection has been released. Continuing.\u001b[0m\n",
      "\u001b[31m2018-10-10 08:20:15.703861: I tensorflow/core/platform/s3/aws_logging.cc:54] Connection has been released. Continuing.\u001b[0m\n",
      "\u001b[31m2018-10-10 08:20:15.714256: I tensorflow/core/platform/s3/aws_logging.cc:54] Connection has been released. Continuing.\u001b[0m\n",
      "\u001b[31m2018-10-10 08:20:15.734366: I tensorflow/core/platform/s3/aws_logging.cc:54] Deleting file: /tmp/s3_filesystem_XXXXXX20181010T0820151539159615714\u001b[0m\n",
      "\u001b[31m2018-10-10 08:20:15.734631: I tensorflow/core/platform/s3/aws_logging.cc:54] Connection has been released. Continuing.\u001b[0m\n",
      "\u001b[31m2018-10-10 08:20:15.743816: I tensorflow/core/platform/s3/aws_logging.cc:54] Connection has been released. Continuing.\u001b[0m\n",
      "\u001b[31m2018-10-10 08:20:15.756123: I tensorflow/core/platform/s3/aws_logging.cc:54] Connection has been released. Continuing.\u001b[0m\n",
      "\u001b[31m2018-10-10 08:20:15.767797: I tensorflow/core/platform/s3/aws_logging.cc:54] Connection has been released. Continuing.\u001b[0m\n",
      "\u001b[31m2018-10-10 08:20:15.805983: I tensorflow/core/platform/s3/aws_logging.cc:54] Deleting file: /tmp/s3_filesystem_XXXXXX20181010T0820151539159615767\u001b[0m\n",
      "\u001b[31m2018-10-10 08:20:15.806246: I tensorflow/core/platform/s3/aws_logging.cc:54] Connection has been released. Continuing.\u001b[0m\n",
      "\u001b[31m2018-10-10 08:20:15.822017: I tensorflow/core/platform/s3/aws_logging.cc:54] Connection has been released. Continuing.\u001b[0m\n",
      "\u001b[31m2018-10-10 08:20:15.850623: I tensorflow/core/platform/s3/aws_logging.cc:54] Connection has been released. Continuing.\u001b[0m\n",
      "\u001b[31m2018-10-10 08:20:15.881755: I tensorflow/core/platform/s3/aws_logging.cc:54] Connection has been released. Continuing.\u001b[0m\n",
      "\u001b[31m2018-10-10 08:20:15.888919: E tensorflow/core/platform/s3/aws_logging.cc:60] No response body. Response code: 404\u001b[0m\n",
      "\u001b[31m2018-10-10 08:20:15.888952: W tensorflow/core/platform/s3/aws_logging.cc:57] If the signature check failed. This could be because of a time skew. Attempting to adjust the signer.\u001b[0m\n",
      "\u001b[31m2018-10-10 08:20:15.889096: I tensorflow/core/platform/s3/aws_logging.cc:54] Connection has been released. Continuing.\u001b[0m\n",
      "\u001b[31m2018-10-10 08:20:15.906932: I tensorflow/core/platform/s3/aws_logging.cc:54] Connection has been released. Continuing.\u001b[0m\n",
      "\u001b[31m2018-10-10 08:20:15.936254: I tensorflow/core/platform/s3/aws_logging.cc:54] Deleting file: /tmp/s3_filesystem_XXXXXX20181010T0820151539159615906\u001b[0m\n",
      "\u001b[31m2018-10-10 08:20:15.936508: I tensorflow/core/platform/s3/aws_logging.cc:54] Connection has been released. Continuing.\u001b[0m\n",
      "\u001b[31m2018-10-10 08:20:15.949194: I tensorflow/core/platform/s3/aws_logging.cc:54] Connection has been released. Continuing.\u001b[0m\n",
      "\u001b[31m2018-10-10 08:20:15.985360: I tensorflow/core/platform/s3/aws_logging.cc:54] Connection has been released. Continuing.\u001b[0m\n",
      "\u001b[31m2018-10-10 08:20:15.999701: I tensorflow/core/platform/s3/aws_logging.cc:54] Connection has been released. Continuing.\u001b[0m\n",
      "\u001b[31m2018-10-10 08:20:16.007969: I tensorflow/core/platform/s3/aws_logging.cc:54] Connection has been released. Continuing.\u001b[0m\n",
      "\u001b[31m2018-10-10 08:20:16.021358: I tensorflow/core/platform/s3/aws_logging.cc:54] Connection has been released. Continuing.\u001b[0m\n",
      "\u001b[31m2018-10-10 08:20:16.029990: I tensorflow/core/platform/s3/aws_logging.cc:54] Connection has been released. Continuing.\u001b[0m\n",
      "\u001b[31m2018-10-10 08:20:16.038978: I tensorflow/core/platform/s3/aws_logging.cc:54] Connection has been released. Continuing.\u001b[0m\n",
      "\u001b[31m2018-10-10 08:20:16.049065: I tensorflow/core/platform/s3/aws_logging.cc:54] Connection has been released. Continuing.\u001b[0m\n",
      "\u001b[31m2018-10-10 08:20:16.066295: I tensorflow/core/platform/s3/aws_logging.cc:54] Connection has been released. Continuing.\u001b[0m\n",
      "\u001b[31m2018-10-10 08:20:16.076499: I tensorflow/core/platform/s3/aws_logging.cc:54] Connection has been released. Continuing.\u001b[0m\n",
      "\u001b[31m2018-10-10 08:20:16.086079: I tensorflow/core/platform/s3/aws_logging.cc:54] Connection has been released. Continuing.\u001b[0m\n",
      "\u001b[31m2018-10-10 08:20:16.096601: I tensorflow/core/platform/s3/aws_logging.cc:54] Connection has been released. Continuing.\u001b[0m\n",
      "\u001b[31m2018-10-10 08:20:16,124 INFO - tensorflow - Calling model_fn.\u001b[0m\n",
      "\u001b[31m2018-10-10 08:20:16,287 INFO - tensorflow - Done calling model_fn.\u001b[0m\n",
      "\u001b[31m2018-10-10 08:20:16,305 INFO - tensorflow - Starting evaluation at 2018-10-10-08:20:16\u001b[0m\n",
      "\u001b[31m2018-10-10 08:20:16,372 INFO - tensorflow - Graph was finalized.\u001b[0m\n",
      "\u001b[31m2018-10-10 08:20:16.372840: I tensorflow/core/platform/s3/aws_logging.cc:54] Connection has been released. Continuing.\u001b[0m\n",
      "\u001b[31m2018-10-10 08:20:16.432883: I tensorflow/core/platform/s3/aws_logging.cc:54] Connection has been released. Continuing.\u001b[0m\n",
      "\u001b[31m2018-10-10 08:20:16.443465: I tensorflow/core/platform/s3/aws_logging.cc:54] Connection has been released. Continuing.\u001b[0m\n",
      "\u001b[31m2018-10-10 08:20:16.455717: I tensorflow/core/platform/s3/aws_logging.cc:54] Connection has been released. Continuing.\u001b[0m\n",
      "\u001b[31m2018-10-10 08:20:16.466342: I tensorflow/core/platform/s3/aws_logging.cc:54] Connection has been released. Continuing.\u001b[0m\n",
      "\u001b[31m2018-10-10 08:20:16,479 INFO - tensorflow - Restoring parameters from s3://sagemaker-ap-southeast-2-167464700695/iris/artifacts/sagemaker-tensorflow-2018-10-10-08-17-27-885/checkpoints/model.ckpt-100\u001b[0m\n",
      "\u001b[31m2018-10-10 08:20:16.493562: I tensorflow/core/platform/s3/aws_logging.cc:54] Connection has been released. Continuing.\u001b[0m\n",
      "\u001b[31m2018-10-10 08:20:16.513373: I tensorflow/core/platform/s3/aws_logging.cc:54] Connection has been released. Continuing.\u001b[0m\n",
      "\u001b[31m2018-10-10 08:20:16.521861: I tensorflow/core/platform/s3/aws_logging.cc:54] Connection has been released. Continuing.\u001b[0m\n",
      "\u001b[31m2018-10-10 08:20:16.535023: I tensorflow/core/platform/s3/aws_logging.cc:54] Connection has been released. Continuing.\u001b[0m\n",
      "\u001b[31m2018-10-10 08:20:16.545541: I tensorflow/core/platform/s3/aws_logging.cc:54] Connection has been released. Continuing.\u001b[0m\n",
      "\u001b[31m2018-10-10 08:20:16.559837: I tensorflow/core/platform/s3/aws_logging.cc:54] Connection has been released. Continuing.\u001b[0m\n",
      "\u001b[31m2018-10-10 08:20:16.569154: I tensorflow/core/platform/s3/aws_logging.cc:54] Connection has been released. Continuing.\u001b[0m\n",
      "\u001b[31m2018-10-10 08:20:16.579450: I tensorflow/core/platform/s3/aws_logging.cc:54] Connection has been released. Continuing.\u001b[0m\n",
      "\u001b[31m2018-10-10 08:20:16.592055: I tensorflow/core/platform/s3/aws_logging.cc:54] Connection has been released. Continuing.\u001b[0m\n",
      "\u001b[31m2018-10-10 08:20:16.605765: I tensorflow/core/platform/s3/aws_logging.cc:54] Connection has been released. Continuing.\u001b[0m\n",
      "\u001b[31m2018-10-10 08:20:16.617596: I tensorflow/core/platform/s3/aws_logging.cc:54] Connection has been released. Continuing.\u001b[0m\n",
      "\u001b[31m2018-10-10 08:20:16,637 INFO - tensorflow - Running local_init_op.\u001b[0m\n",
      "\u001b[31m2018-10-10 08:20:16,647 INFO - tensorflow - Done running local_init_op.\u001b[0m\n",
      "\u001b[31m2018-10-10 08:20:16,770 INFO - tensorflow - Evaluation [1/10]\u001b[0m\n",
      "\u001b[31m2018-10-10 08:20:16,796 INFO - tensorflow - Finished evaluation at 2018-10-10-08:20:16\u001b[0m\n",
      "\u001b[31m2018-10-10 08:20:16,797 INFO - tensorflow - Saving dict for global step 100: accuracy = 0.96666664, average_loss = 0.22061191, global_step = 100, loss = 6.6183577\u001b[0m\n",
      "\u001b[31m2018-10-10 08:20:16.797338: I tensorflow/core/platform/s3/aws_logging.cc:54] Connection has been released. Continuing.\u001b[0m\n",
      "\u001b[31m2018-10-10 08:20:16.808870: E tensorflow/core/platform/s3/aws_logging.cc:60] No response body. Response code: 404\u001b[0m\n",
      "\u001b[31m2018-10-10 08:20:16.808937: W tensorflow/core/platform/s3/aws_logging.cc:57] If the signature check failed. This could be because of a time skew. Attempting to adjust the signer.\u001b[0m\n",
      "\u001b[31m2018-10-10 08:20:16.809227: I tensorflow/core/platform/s3/aws_logging.cc:54] Connection has been released. Continuing.\u001b[0m\n",
      "\u001b[31m2018-10-10 08:20:16.821412: I tensorflow/core/platform/s3/aws_logging.cc:54] Connection has been released. Continuing.\u001b[0m\n",
      "\u001b[31m2018-10-10 08:20:16.831822: E tensorflow/core/platform/s3/aws_logging.cc:60] No response body. Response code: 404\u001b[0m\n",
      "\u001b[31m2018-10-10 08:20:16.831896: W tensorflow/core/platform/s3/aws_logging.cc:57] If the signature check failed. This could be because of a time skew. Attempting to adjust the signer.\u001b[0m\n",
      "\u001b[31m2018-10-10 08:20:16.832125: I tensorflow/core/platform/s3/aws_logging.cc:54] Connection has been released. Continuing.\u001b[0m\n"
     ]
    },
    {
     "name": "stdout",
     "output_type": "stream",
     "text": [
      "\n",
      "2018-10-10 08:20:21 Uploading - Uploading generated training model\n",
      "2018-10-10 08:20:26 Completed - Training job completed\n",
      "\u001b[31m2018-10-10 08:20:16.867261: I tensorflow/core/platform/s3/aws_logging.cc:54] Connection has been released. Continuing.\u001b[0m\n",
      "\u001b[31m2018-10-10 08:20:16.876778: E tensorflow/core/platform/s3/aws_logging.cc:60] No response body. Response code: 404\u001b[0m\n",
      "\u001b[31m2018-10-10 08:20:16.876805: W tensorflow/core/platform/s3/aws_logging.cc:57] If the signature check failed. This could be because of a time skew. Attempting to adjust the signer.\u001b[0m\n",
      "\u001b[31m2018-10-10 08:20:16.876943: I tensorflow/core/platform/s3/aws_logging.cc:54] Connection has been released. Continuing.\u001b[0m\n",
      "\u001b[31m2018-10-10 08:20:16.890705: I tensorflow/core/platform/s3/aws_logging.cc:54] Connection has been released. Continuing.\u001b[0m\n",
      "\u001b[31m2018-10-10 08:20:16.902718: I tensorflow/core/platform/s3/aws_logging.cc:54] Deleting file: /tmp/s3_filesystem_XXXXXX20181010T0820161539159616890\u001b[0m\n",
      "\u001b[31m2018-10-10 08:20:16.930211: I tensorflow/core/platform/s3/aws_logging.cc:54] Connection has been released. Continuing.\u001b[0m\n",
      "\u001b[31m2018-10-10 08:20:16.945092: I tensorflow/core/platform/s3/aws_logging.cc:54] Connection has been released. Continuing.\u001b[0m\n",
      "\u001b[31m2018-10-10 08:20:16.956221: I tensorflow/core/platform/s3/aws_logging.cc:54] Connection has been released. Continuing.\u001b[0m\n",
      "\u001b[31m2018-10-10 08:20:16.967152: I tensorflow/core/platform/s3/aws_logging.cc:54] Connection has been released. Continuing.\u001b[0m\n",
      "\u001b[31m2018-10-10 08:20:17.093688: I tensorflow/core/platform/s3/aws_logging.cc:54] Connection has been released. Continuing.\u001b[0m\n",
      "\u001b[31m2018-10-10 08:20:17.102049: I tensorflow/core/platform/s3/aws_logging.cc:54] Connection has been released. Continuing.\u001b[0m\n",
      "\u001b[31m2018-10-10 08:20:17.143152: I tensorflow/core/platform/s3/aws_logging.cc:54] Connection has been released. Continuing.\u001b[0m\n",
      "\u001b[31m2018-10-10 08:20:17.216590: I tensorflow/core/platform/s3/aws_logging.cc:54] Connection has been released. Continuing.\u001b[0m\n",
      "\u001b[31m2018-10-10 08:20:17.224874: I tensorflow/core/platform/s3/aws_logging.cc:54] Connection has been released. Continuing.\u001b[0m\n",
      "\u001b[31m2018-10-10 08:20:17,237 INFO - tensorflow - Saving 'checkpoint_path' summary for global step 100: s3://sagemaker-ap-southeast-2-167464700695/iris/artifacts/sagemaker-tensorflow-2018-10-10-08-17-27-885/checkpoints/model.ckpt-100\u001b[0m\n",
      "\u001b[31m2018-10-10 08:20:17.238276: I tensorflow/core/platform/s3/aws_logging.cc:54] Connection has been released. Continuing.\u001b[0m\n",
      "\u001b[31m2018-10-10 08:20:17.295913: I tensorflow/core/platform/s3/aws_logging.cc:54] Connection has been released. Continuing.\u001b[0m\n",
      "\u001b[31m2018-10-10 08:20:17.306751: I tensorflow/core/platform/s3/aws_logging.cc:54] Connection has been released. Continuing.\u001b[0m\n",
      "\u001b[31m2018-10-10 08:20:17.320842: I tensorflow/core/platform/s3/aws_logging.cc:54] Connection has been released. Continuing.\u001b[0m\n",
      "\u001b[31m2018-10-10 08:20:17.330813: E tensorflow/core/platform/s3/aws_logging.cc:60] No response body. Response code: 404\u001b[0m\n",
      "\u001b[31m2018-10-10 08:20:17.330841: W tensorflow/core/platform/s3/aws_logging.cc:57] If the signature check failed. This could be because of a time skew. Attempting to adjust the signer.\u001b[0m\n",
      "\u001b[31m2018-10-10 08:20:17.330985: I tensorflow/core/platform/s3/aws_logging.cc:54] Connection has been released. Continuing.\u001b[0m\n",
      "\u001b[31m2018-10-10 08:20:17.343726: I tensorflow/core/platform/s3/aws_logging.cc:54] Connection has been released. Continuing.\u001b[0m\n",
      "\u001b[31m2018-10-10 08:20:17.352618: E tensorflow/core/platform/s3/aws_logging.cc:60] No response body. Response code: 404\u001b[0m\n",
      "\u001b[31m2018-10-10 08:20:17.352700: W tensorflow/core/platform/s3/aws_logging.cc:57] If the signature check failed. This could be because of a time skew. Attempting to adjust the signer.\u001b[0m\n",
      "\u001b[31m2018-10-10 08:20:17.352854: I tensorflow/core/platform/s3/aws_logging.cc:54] Connection has been released. Continuing.\u001b[0m\n",
      "\u001b[31m2018-10-10 08:20:17.364453: I tensorflow/core/platform/s3/aws_logging.cc:54] Connection has been released. Continuing.\u001b[0m\n",
      "\u001b[31m2018-10-10 08:20:17.372555: E tensorflow/core/platform/s3/aws_logging.cc:60] No response body. Response code: 404\u001b[0m\n",
      "\u001b[31m2018-10-10 08:20:17.372615: W tensorflow/core/platform/s3/aws_logging.cc:57] If the signature check failed. This could be because of a time skew. Attempting to adjust the signer.\u001b[0m\n",
      "\u001b[31m2018-10-10 08:20:17.372909: I tensorflow/core/platform/s3/aws_logging.cc:54] Connection has been released. Continuing.\u001b[0m\n",
      "\u001b[31m2018-10-10 08:20:17.384771: I tensorflow/core/platform/s3/aws_logging.cc:54] Connection has been released. Continuing.\u001b[0m\n",
      "\u001b[31m2018-10-10 08:20:17.394178: E tensorflow/core/platform/s3/aws_logging.cc:60] No response body. Response code: 404\u001b[0m\n",
      "\u001b[31m2018-10-10 08:20:17.394237: W tensorflow/core/platform/s3/aws_logging.cc:57] If the signature check failed. This could be because of a time skew. Attempting to adjust the signer.\u001b[0m\n",
      "\u001b[31m2018-10-10 08:20:17.394393: I tensorflow/core/platform/s3/aws_logging.cc:54] Connection has been released. Continuing.\u001b[0m\n",
      "\u001b[31m2018-10-10 08:20:17.404108: I tensorflow/core/platform/s3/aws_logging.cc:54] Connection has been released. Continuing.\u001b[0m\n",
      "\u001b[31m2018-10-10 08:20:17.413520: E tensorflow/core/platform/s3/aws_logging.cc:60] No response body. Response code: 404\u001b[0m\n",
      "\u001b[31m2018-10-10 08:20:17.413581: W tensorflow/core/platform/s3/aws_logging.cc:57] If the signature check failed. This could be because of a time skew. Attempting to adjust the signer.\u001b[0m\n",
      "\u001b[31m2018-10-10 08:20:17.413727: I tensorflow/core/platform/s3/aws_logging.cc:54] Connection has been released. Continuing.\u001b[0m\n",
      "\u001b[31m2018-10-10 08:20:17.423398: I tensorflow/core/platform/s3/aws_logging.cc:54] Connection has been released. Continuing.\u001b[0m\n",
      "\u001b[31m2018-10-10 08:20:17.430050: E tensorflow/core/platform/s3/aws_logging.cc:60] No response body. Response code: 404\u001b[0m\n",
      "\u001b[31m2018-10-10 08:20:17.430083: W tensorflow/core/platform/s3/aws_logging.cc:57] If the signature check failed. This could be because of a time skew. Attempting to adjust the signer.\u001b[0m\n",
      "\u001b[31m2018-10-10 08:20:17.430248: I tensorflow/core/platform/s3/aws_logging.cc:54] Connection has been released. Continuing.\u001b[0m\n",
      "\u001b[31m2018-10-10 08:20:17.443521: I tensorflow/core/platform/s3/aws_logging.cc:54] Connection has been released. Continuing.\u001b[0m\n",
      "\u001b[31m2018-10-10 08:20:17.454393: I tensorflow/core/platform/s3/aws_logging.cc:54] Deleting file: /tmp/s3_filesystem_XXXXXX20181010T0820171539159617443\u001b[0m\n",
      "\u001b[31m2018-10-10 08:20:17.454596: I tensorflow/core/platform/s3/aws_logging.cc:54] Connection has been released. Continuing.\u001b[0m\n",
      "\u001b[31m2018-10-10 08:20:17.467397: I tensorflow/core/platform/s3/aws_logging.cc:54] Deleting file: /tmp/s3_filesystem_XXXXXX20181010T0820171539159617454\u001b[0m\n",
      "\u001b[31m2018-10-10 08:20:17.467627: I tensorflow/core/platform/s3/aws_logging.cc:54] Connection has been released. Continuing.\u001b[0m\n",
      "\u001b[31m2018-10-10 08:20:17.479538: I tensorflow/core/platform/s3/aws_logging.cc:54] Deleting file: /tmp/s3_filesystem_XXXXXX20181010T0820171539159617467\u001b[0m\n",
      "\u001b[31m2018-10-10 08:20:17,485 INFO - tensorflow - Calling model_fn.\u001b[0m\n",
      "\u001b[31m2018-10-10 08:20:17,572 INFO - tensorflow - Done calling model_fn.\u001b[0m\n",
      "\u001b[31m2018-10-10 08:20:17,572 INFO - tensorflow - Signatures INCLUDED in export for Eval: None\u001b[0m\n",
      "\u001b[31m2018-10-10 08:20:17,572 INFO - tensorflow - Signatures INCLUDED in export for Classify: None\u001b[0m\n",
      "\u001b[31m2018-10-10 08:20:17,572 INFO - tensorflow - Signatures INCLUDED in export for Regress: None\u001b[0m\n",
      "\u001b[31m2018-10-10 08:20:17,572 INFO - tensorflow - Signatures INCLUDED in export for Predict: ['predict']\u001b[0m\n",
      "\u001b[31m2018-10-10 08:20:17,573 INFO - tensorflow - Signatures INCLUDED in export for Train: None\u001b[0m\n",
      "\u001b[31m2018-10-10 08:20:17,573 INFO - tensorflow - Signatures EXCLUDED from export because they cannot be be served via TensorFlow Serving APIs:\u001b[0m\n",
      "\u001b[31m2018-10-10 08:20:17,573 INFO - tensorflow - 'serving_default' : Classification input must be a single string Tensor; got {'SepalLength': <tf.Tensor 'Placeholder:0' shape=(?,) dtype=float32>, 'PetalLength': <tf.Tensor 'Placeholder_2:0' shape=(?,) dtype=float32>, 'PetalWidth': <tf.Tensor 'Placeholder_3:0' shape=(?,) dtype=float32>, 'SepalWidth': <tf.Tensor 'Placeholder_1:0' shape=(?,) dtype=float32>}\u001b[0m\n",
      "\u001b[31m2018-10-10 08:20:17,573 INFO - tensorflow - 'classification' : Classification input must be a single string Tensor; got {'SepalLength': <tf.Tensor 'Placeholder:0' shape=(?,) dtype=float32>, 'PetalLength': <tf.Tensor 'Placeholder_2:0' shape=(?,) dtype=float32>, 'PetalWidth': <tf.Tensor 'Placeholder_3:0' shape=(?,) dtype=float32>, 'SepalWidth': <tf.Tensor 'Placeholder_1:0' shape=(?,) dtype=float32>}\u001b[0m\n",
      "\u001b[31m2018-10-10 08:20:17,573 WARNING - tensorflow - Export includes no default signature!\u001b[0m\n",
      "\u001b[31m2018-10-10 08:20:17.589210: I tensorflow/core/platform/s3/aws_logging.cc:54] Connection has been released. Continuing.\u001b[0m\n",
      "\u001b[31m2018-10-10 08:20:17.610804: I tensorflow/core/platform/s3/aws_logging.cc:54] Connection has been released. Continuing.\u001b[0m\n",
      "\u001b[31m2018-10-10 08:20:17.619244: I tensorflow/core/platform/s3/aws_logging.cc:54] Connection has been released. Continuing.\u001b[0m\n",
      "\u001b[31m2018-10-10 08:20:17.631008: I tensorflow/core/platform/s3/aws_logging.cc:54] Connection has been released. Continuing.\u001b[0m\n",
      "\u001b[31m2018-10-10 08:20:17.642128: I tensorflow/core/platform/s3/aws_logging.cc:54] Connection has been released. Continuing.\u001b[0m\n",
      "\u001b[31m2018-10-10 08:20:17,654 INFO - tensorflow - Restoring parameters from s3://sagemaker-ap-southeast-2-167464700695/iris/artifacts/sagemaker-tensorflow-2018-10-10-08-17-27-885/checkpoints/model.ckpt-100\u001b[0m\n",
      "\u001b[31m2018-10-10 08:20:17.663259: I tensorflow/core/platform/s3/aws_logging.cc:54] Connection has been released. Continuing.\u001b[0m\n",
      "\u001b[31m2018-10-10 08:20:17.686182: I tensorflow/core/platform/s3/aws_logging.cc:54] Connection has been released. Continuing.\u001b[0m\n",
      "\u001b[31m2018-10-10 08:20:17.695737: I tensorflow/core/platform/s3/aws_logging.cc:54] Connection has been released. Continuing.\u001b[0m\n",
      "\u001b[31m2018-10-10 08:20:17.707908: I tensorflow/core/platform/s3/aws_logging.cc:54] Connection has been released. Continuing.\u001b[0m\n",
      "\u001b[31m2018-10-10 08:20:17.718587: I tensorflow/core/platform/s3/aws_logging.cc:54] Connection has been released. Continuing.\u001b[0m\n",
      "\u001b[31m2018-10-10 08:20:17.732146: I tensorflow/core/platform/s3/aws_logging.cc:54] Connection has been released. Continuing.\u001b[0m\n",
      "\u001b[31m2018-10-10 08:20:17.740919: I tensorflow/core/platform/s3/aws_logging.cc:54] Connection has been released. Continuing.\u001b[0m\n",
      "\u001b[31m2018-10-10 08:20:17.753624: I tensorflow/core/platform/s3/aws_logging.cc:54] Connection has been released. Continuing.\u001b[0m\n",
      "\u001b[31m2018-10-10 08:20:17.765545: I tensorflow/core/platform/s3/aws_logging.cc:54] Connection has been released. Continuing.\u001b[0m\n",
      "\u001b[31m2018-10-10 08:20:17.779722: I tensorflow/core/platform/s3/aws_logging.cc:54] Connection has been released. Continuing.\u001b[0m\n",
      "\u001b[31m2018-10-10 08:20:17.793442: I tensorflow/core/platform/s3/aws_logging.cc:54] Connection has been released. Continuing.\u001b[0m\n",
      "\u001b[31m2018-10-10 08:20:17,805 INFO - tensorflow - Assets added to graph.\u001b[0m\n",
      "\u001b[31m2018-10-10 08:20:17,805 INFO - tensorflow - No assets to write.\u001b[0m\n",
      "\u001b[31m2018-10-10 08:20:17.805906: I tensorflow/core/platform/s3/aws_logging.cc:54] Connection has been released. Continuing.\u001b[0m\n",
      "\u001b[31m2018-10-10 08:20:17.814343: E tensorflow/core/platform/s3/aws_logging.cc:60] No response body. Response code: 404\u001b[0m\n",
      "\u001b[31m2018-10-10 08:20:17.814371: W tensorflow/core/platform/s3/aws_logging.cc:57] If the signature check failed. This could be because of a time skew. Attempting to adjust the signer.\u001b[0m\n",
      "\u001b[31m2018-10-10 08:20:17.814525: I tensorflow/core/platform/s3/aws_logging.cc:54] Connection has been released. Continuing.\u001b[0m\n",
      "\u001b[31m2018-10-10 08:20:17.826192: I tensorflow/core/platform/s3/aws_logging.cc:54] Connection has been released. Continuing.\u001b[0m\n",
      "\u001b[31m2018-10-10 08:20:17.835176: E tensorflow/core/platform/s3/aws_logging.cc:60] No response body. Response code: 404\u001b[0m\n",
      "\u001b[31m2018-10-10 08:20:17.835208: W tensorflow/core/platform/s3/aws_logging.cc:57] If the signature check failed. This could be because of a time skew. Attempting to adjust the signer.\u001b[0m\n",
      "\u001b[31m2018-10-10 08:20:17.835358: I tensorflow/core/platform/s3/aws_logging.cc:54] Connection has been released. Continuing.\u001b[0m\n",
      "\u001b[31m2018-10-10 08:20:17.845314: I tensorflow/core/platform/s3/aws_logging.cc:54] Connection has been released. Continuing.\u001b[0m\n",
      "\u001b[31m2018-10-10 08:20:17.886358: E tensorflow/core/platform/s3/aws_logging.cc:60] No response body. Response code: 404\u001b[0m\n",
      "\u001b[31m2018-10-10 08:20:17.886389: W tensorflow/core/platform/s3/aws_logging.cc:57] If the signature check failed. This could be because of a time skew. Attempting to adjust the signer.\u001b[0m\n",
      "\u001b[31m2018-10-10 08:20:17.886549: I tensorflow/core/platform/s3/aws_logging.cc:54] Connection has been released. Continuing.\u001b[0m\n",
      "\u001b[31m2018-10-10 08:20:17.908770: I tensorflow/core/platform/s3/aws_logging.cc:54] Connection has been released. Continuing.\u001b[0m\n",
      "\u001b[31m2018-10-10 08:20:17.920461: I tensorflow/core/platform/s3/aws_logging.cc:54] Deleting file: /tmp/s3_filesystem_XXXXXX20181010T0820171539159617908\u001b[0m\n",
      "\u001b[31m2018-10-10 08:20:17.930324: I tensorflow/core/platform/s3/aws_logging.cc:54] Connection has been released. Continuing.\u001b[0m\n",
      "\u001b[31m2018-10-10 08:20:17.940744: I tensorflow/core/platform/s3/aws_logging.cc:54] Deleting file: /tmp/s3_filesystem_XXXXXX20181010T0820171539159617930\u001b[0m\n",
      "\u001b[31m2018-10-10 08:20:17.942171: I tensorflow/core/platform/s3/aws_logging.cc:54] Connection has been released. Continuing.\u001b[0m\n",
      "\u001b[31m2018-10-10 08:20:17.962460: I tensorflow/core/platform/s3/aws_logging.cc:54] Deleting file: /tmp/s3_filesystem_XXXXXX20181010T0820171539159617940\u001b[0m\n",
      "\u001b[31m2018-10-10 08:20:17.962647: I tensorflow/core/platform/s3/aws_logging.cc:54] Connection has been released. Continuing.\u001b[0m\n",
      "\u001b[31m2018-10-10 08:20:17.984575: I tensorflow/core/platform/s3/aws_logging.cc:54] Connection has been released. Continuing.\u001b[0m\n",
      "\u001b[31m2018-10-10 08:20:18.019866: I tensorflow/core/platform/s3/aws_logging.cc:54] Connection has been released. Continuing.\u001b[0m\n",
      "\u001b[31m2018-10-10 08:20:18.031587: I tensorflow/core/platform/s3/aws_logging.cc:54] Connection has been released. Continuing.\u001b[0m\n",
      "\u001b[31m2018-10-10 08:20:18.051968: I tensorflow/core/platform/s3/aws_logging.cc:54] Deleting file: /tmp/s3_filesystem_XXXXXX20181010T0820181539159618031\u001b[0m\n",
      "\u001b[31m2018-10-10 08:20:18.052128: I tensorflow/core/platform/s3/aws_logging.cc:54] Connection has been released. Continuing.\u001b[0m\n",
      "\u001b[31m2018-10-10 08:20:18.065599: I tensorflow/core/platform/s3/aws_logging.cc:54] Connection has been released. Continuing.\u001b[0m\n",
      "\u001b[31m2018-10-10 08:20:18.113152: I tensorflow/core/platform/s3/aws_logging.cc:54] Connection has been released. Continuing.\u001b[0m\n",
      "\u001b[31m2018-10-10 08:20:18.124425: I tensorflow/core/platform/s3/aws_logging.cc:54] Connection has been released. Continuing.\u001b[0m\n",
      "\u001b[31m2018-10-10 08:20:18.134286: I tensorflow/core/platform/s3/aws_logging.cc:54] Deleting file: /tmp/s3_filesystem_XXXXXX20181010T0820181539159618124\u001b[0m\n",
      "\u001b[31m2018-10-10 08:20:18.134616: I tensorflow/core/platform/s3/aws_logging.cc:54] Connection has been released. Continuing.\u001b[0m\n",
      "\u001b[31m2018-10-10 08:20:18.144800: I tensorflow/core/platform/s3/aws_logging.cc:54] Connection has been released. Continuing.\u001b[0m\n",
      "\u001b[31m2018-10-10 08:20:18.157033: I tensorflow/core/platform/s3/aws_logging.cc:54] Connection has been released. Continuing.\u001b[0m\n",
      "\u001b[31m2018-10-10 08:20:18.171351: I tensorflow/core/platform/s3/aws_logging.cc:54] Connection has been released. Continuing.\u001b[0m\n",
      "\u001b[31m2018-10-10 08:20:18.186306: I tensorflow/core/platform/s3/aws_logging.cc:54] Connection has been released. Continuing.\u001b[0m\n",
      "\u001b[31m2018-10-10 08:20:18.197576: I tensorflow/core/platform/s3/aws_logging.cc:54] Connection has been released. Continuing.\u001b[0m\n",
      "\u001b[31m2018-10-10 08:20:18.212061: I tensorflow/core/platform/s3/aws_logging.cc:54] Connection has been released. Continuing.\u001b[0m\n",
      "\u001b[31m2018-10-10 08:20:18.242699: I tensorflow/core/platform/s3/aws_logging.cc:54] Connection has been released. Continuing.\u001b[0m\n",
      "\u001b[31m2018-10-10 08:20:18.256571: I tensorflow/core/platform/s3/aws_logging.cc:54] Connection has been released. Continuing.\u001b[0m\n",
      "\u001b[31m2018-10-10 08:20:18.278099: I tensorflow/core/platform/s3/aws_logging.cc:54] Deleting file: /tmp/s3_filesystem_XXXXXX20181010T0820181539159618256\u001b[0m\n",
      "\u001b[31m2018-10-10 08:20:18.278289: I tensorflow/core/platform/s3/aws_logging.cc:54] Connection has been released. Continuing.\u001b[0m\n",
      "\u001b[31m2018-10-10 08:20:18.291327: I tensorflow/core/platform/s3/aws_logging.cc:54] Connection has been released. Continuing.\u001b[0m\n",
      "\u001b[31m2018-10-10 08:20:18.307115: I tensorflow/core/platform/s3/aws_logging.cc:54] Connection has been released. Continuing.\u001b[0m\n",
      "\u001b[31m2018-10-10 08:20:18.400914: I tensorflow/core/platform/s3/aws_logging.cc:54] Connection has been released. Continuing.\u001b[0m\n",
      "\u001b[31m2018-10-10 08:20:18.408010: E tensorflow/core/platform/s3/aws_logging.cc:60] No response body. Response code: 404\u001b[0m\n",
      "\u001b[31m2018-10-10 08:20:18.408039: W tensorflow/core/platform/s3/aws_logging.cc:57] If the signature check failed. This could be because of a time skew. Attempting to adjust the signer.\u001b[0m\n",
      "\u001b[31m2018-10-10 08:20:18.408173: I tensorflow/core/platform/s3/aws_logging.cc:54] Connection has been released. Continuing.\u001b[0m\n",
      "\u001b[31m2018-10-10 08:20:18.429921: I tensorflow/core/platform/s3/aws_logging.cc:54] Connection has been released. Continuing.\u001b[0m\n",
      "\u001b[31m2018-10-10 08:20:18.453009: I tensorflow/core/platform/s3/aws_logging.cc:54] Deleting file: /tmp/s3_filesystem_XXXXXX20181010T0820181539159618429\u001b[0m\n",
      "\u001b[31m2018-10-10 08:20:18,453 INFO - tensorflow - SavedModel written to: s3://sagemaker-ap-southeast-2-167464700695/iris/artifacts/sagemaker-tensorflow-2018-10-10-08-17-27-885/checkpoints/export/Servo/temp-1539159617/saved_model.pb\u001b[0m\n",
      "\u001b[31m2018-10-10 08:20:18.453552: I tensorflow/core/platform/s3/aws_logging.cc:54] Connection has been released. Continuing.\u001b[0m\n",
      "\u001b[31m2018-10-10 08:20:18.462697: E tensorflow/core/platform/s3/aws_logging.cc:60] No response body. Response code: 404\u001b[0m\n",
      "\u001b[31m2018-10-10 08:20:18.462724: W tensorflow/core/platform/s3/aws_logging.cc:57] If the signature check failed. This could be because of a time skew. Attempting to adjust the signer.\u001b[0m\n",
      "\u001b[31m2018-10-10 08:20:18.462875: I tensorflow/core/platform/s3/aws_logging.cc:54] Connection has been released. Continuing.\u001b[0m\n",
      "\u001b[31m2018-10-10 08:20:18.476426: I tensorflow/core/platform/s3/aws_logging.cc:54] Connection has been released. Continuing.\u001b[0m\n",
      "\u001b[31m2018-10-10 08:20:18.530045: I tensorflow/core/platform/s3/aws_logging.cc:54] Connection has been released. Continuing.\u001b[0m\n",
      "\u001b[31m2018-10-10 08:20:18.553745: I tensorflow/core/platform/s3/aws_logging.cc:54] Connection has been released. Continuing.\u001b[0m\n",
      "\u001b[31m2018-10-10 08:20:18.565010: I tensorflow/core/platform/s3/aws_logging.cc:54] Connection has been released. Continuing.\u001b[0m\n",
      "\u001b[31m2018-10-10 08:20:18.613361: I tensorflow/core/platform/s3/aws_logging.cc:54] Connection has been released. Continuing.\u001b[0m\n",
      "\u001b[31m2018-10-10 08:20:18.624546: I tensorflow/core/platform/s3/aws_logging.cc:54] Connection has been released. Continuing.\u001b[0m\n",
      "\u001b[31m2018-10-10 08:20:18.647074: I tensorflow/core/platform/s3/aws_logging.cc:54] Connection has been released. Continuing.\u001b[0m\n",
      "\u001b[31m2018-10-10 08:20:18.657045: I tensorflow/core/platform/s3/aws_logging.cc:54] Connection has been released. Continuing.\u001b[0m\n",
      "\u001b[31m2018-10-10 08:20:18.689281: I tensorflow/core/platform/s3/aws_logging.cc:54] Connection has been released. Continuing.\u001b[0m\n",
      "\u001b[31m2018-10-10 08:20:18.698160: I tensorflow/core/platform/s3/aws_logging.cc:54] Connection has been released. Continuing.\u001b[0m\n",
      "\u001b[31m2018-10-10 08:20:18.726359: I tensorflow/core/platform/s3/aws_logging.cc:54] Connection has been released. Continuing.\u001b[0m\n",
      "\u001b[31m2018-10-10 08:20:18.738582: I tensorflow/core/platform/s3/aws_logging.cc:54] Connection has been released. Continuing.\u001b[0m\n",
      "\u001b[31m2018-10-10 08:20:18.743780: E tensorflow/core/platform/s3/aws_logging.cc:60] No response body. Response code: 404\u001b[0m\n",
      "\u001b[31m2018-10-10 08:20:18.743840: W tensorflow/core/platform/s3/aws_logging.cc:57] If the signature check failed. This could be because of a time skew. Attempting to adjust the signer.\u001b[0m\n",
      "\u001b[31m2018-10-10 08:20:18.744044: I tensorflow/core/platform/s3/aws_logging.cc:54] Connection has been released. Continuing.\u001b[0m\n",
      "\u001b[31m2018-10-10 08:20:18.763516: I tensorflow/core/platform/s3/aws_logging.cc:54] Connection has been released. Continuing.\u001b[0m\n",
      "\u001b[31m2018-10-10 08:20:18.771155: E tensorflow/core/platform/s3/aws_logging.cc:60] No response body. Response code: 404\u001b[0m\n",
      "\u001b[31m2018-10-10 08:20:18.771216: W tensorflow/core/platform/s3/aws_logging.cc:57] If the signature check failed. This could be because of a time skew. Attempting to adjust the signer.\u001b[0m\n",
      "\u001b[31m2018-10-10 08:20:18.771428: I tensorflow/core/platform/s3/aws_logging.cc:54] Connection has been released. Continuing.\u001b[0m\n",
      "\u001b[31m2018-10-10 08:20:18.791061: I tensorflow/core/platform/s3/aws_logging.cc:54] Connection has been released. Continuing.\u001b[0m\n",
      "\u001b[31m2018-10-10 08:20:18.810526: I tensorflow/core/platform/s3/aws_logging.cc:54] Connection has been released. Continuing.\u001b[0m\n",
      "\u001b[31m2018-10-10 08:20:18.896989: I tensorflow/core/platform/s3/aws_logging.cc:54] Connection has been released. Continuing.\u001b[0m\n",
      "\u001b[31m2018-10-10 08:20:18.907270: I tensorflow/core/platform/s3/aws_logging.cc:54] Connection has been released. Continuing.\u001b[0m\n",
      "\u001b[31m2018-10-10 08:20:18,948 INFO - tensorflow - Loss for final step: 21.108587.\u001b[0m\n",
      "\u001b[31m2018-10-10 08:20:19,033 INFO - tf_container - Downloaded saved model at /opt/ml/model/export/Servo/1539159617/saved_model.pb\u001b[0m\n"
     ]
    },
    {
     "name": "stdout",
     "output_type": "stream",
     "text": [
      "Billable seconds: 48\n",
      "CPU times: user 452 ms, sys: 40 ms, total: 492 ms\n",
      "Wall time: 3min 13s\n"
     ]
    }
   ],
   "source": [
    "%%time\n",
    "estimator.fit(s3_data)"
   ]
  },
  {
   "cell_type": "markdown",
   "metadata": {},
   "source": [
    "## Deploy"
   ]
  },
  {
   "cell_type": "code",
   "execution_count": 42,
   "metadata": {},
   "outputs": [
    {
     "name": "stderr",
     "output_type": "stream",
     "text": [
      "INFO:sagemaker:Creating model with name: sagemaker-tensorflow-2018-10-10-08-17-27-885\n",
      "INFO:sagemaker:Creating endpoint with name sagemaker-tensorflow-2018-10-10-08-17-27-885\n"
     ]
    },
    {
     "name": "stdout",
     "output_type": "stream",
     "text": [
      "--------------------------------------------------------------!CPU times: user 276 ms, sys: 16 ms, total: 292 ms\n",
      "Wall time: 5min 16s\n"
     ]
    }
   ],
   "source": [
    "%%time\n",
    "iris_predictor = estimator.deploy(initial_instance_count=1,\n",
    "                                  instance_type='ml.t2.medium')"
   ]
  },
  {
   "cell_type": "markdown",
   "metadata": {},
   "source": [
    "Great! So apparently we have a REST endpoint serving prediction of our model.  Lets give it a test!"
   ]
  },
  {
   "cell_type": "markdown",
   "metadata": {},
   "source": [
    "## Evaluate\n",
    "\n",
    "Lets send data unseen by the model to the deployed endpoint."
   ]
  },
  {
   "cell_type": "code",
   "execution_count": 43,
   "metadata": {},
   "outputs": [],
   "source": [
    "import pandas as pd"
   ]
  },
  {
   "cell_type": "code",
   "execution_count": 52,
   "metadata": {},
   "outputs": [
    {
     "data": {
      "text/plain": [
       "{'PetalLength': 1.7, 'PetalWidth': 0.5, 'SepalLength': 5.1, 'SepalWidth': 3.3}"
      ]
     },
     "execution_count": 52,
     "metadata": {},
     "output_type": "execute_result"
    }
   ],
   "source": [
    "valid = pd.read_hdf('../data/validation_data.hdf', 'test1')\n",
    "\n",
    "features = valid.drop('Species', axis=1)\n",
    "sample0 = features.loc[0]\n",
    "dict(sample0)"
   ]
  },
  {
   "cell_type": "markdown",
   "metadata": {},
   "source": [
    "It is unclear what format to provide the data in to have the endpoint serve predictions correctly"
   ]
  },
  {
   "cell_type": "code",
   "execution_count": 92,
   "metadata": {},
   "outputs": [
    {
     "ename": "ModelError",
     "evalue": "An error occurred (ModelError) when calling the InvokeEndpoint operation: Received server error (500) from model with message \"\". See https://ap-southeast-2.console.aws.amazon.com/cloudwatch/home?region=ap-southeast-2#logEventViewer:group=/aws/sagemaker/Endpoints/sagemaker-tensorflow-2018-10-01-02-17-54-088 in account 167464700695 for more information.",
     "output_type": "error",
     "traceback": [
      "\u001b[0;31m\u001b[0m",
      "\u001b[0;31mModelError\u001b[0mTraceback (most recent call last)",
      "\u001b[0;32m<ipython-input-92-07d9ea9b1239>\u001b[0m in \u001b[0;36m<module>\u001b[0;34m()\u001b[0m\n\u001b[1;32m      2\u001b[0m \u001b[0;31m# iris_predictor.predict({u'' : list(sample0.values)})\u001b[0m\u001b[0;34m\u001b[0m\u001b[0;34m\u001b[0m\u001b[0m\n\u001b[1;32m      3\u001b[0m \u001b[0;31m# iris_predictor.predict({ u'instances': [dict(sample0)]})\u001b[0m\u001b[0;34m\u001b[0m\u001b[0;34m\u001b[0m\u001b[0m\n\u001b[0;32m----> 4\u001b[0;31m \u001b[0miris_predictor\u001b[0m\u001b[0;34m.\u001b[0m\u001b[0mpredict\u001b[0m\u001b[0;34m(\u001b[0m\u001b[0;34m{\u001b[0m \u001b[0;34mu''\u001b[0m\u001b[0;34m:\u001b[0m \u001b[0;34m[\u001b[0m\u001b[0mdict\u001b[0m\u001b[0;34m(\u001b[0m\u001b[0msample0\u001b[0m\u001b[0;34m)\u001b[0m\u001b[0;34m]\u001b[0m\u001b[0;34m}\u001b[0m\u001b[0;34m)\u001b[0m\u001b[0;34m\u001b[0m\u001b[0m\n\u001b[0m",
      "\u001b[0;32m/home/ec2-user/anaconda3/envs/tensorflow_p27/lib/python2.7/site-packages/sagemaker/predictor.pyc\u001b[0m in \u001b[0;36mpredict\u001b[0;34m(self, data)\u001b[0m\n\u001b[1;32m     84\u001b[0m             \u001b[0mrequest_args\u001b[0m\u001b[0;34m[\u001b[0m\u001b[0;34m'Accept'\u001b[0m\u001b[0;34m]\u001b[0m \u001b[0;34m=\u001b[0m \u001b[0mself\u001b[0m\u001b[0;34m.\u001b[0m\u001b[0maccept\u001b[0m\u001b[0;34m\u001b[0m\u001b[0m\n\u001b[1;32m     85\u001b[0m \u001b[0;34m\u001b[0m\u001b[0m\n\u001b[0;32m---> 86\u001b[0;31m         \u001b[0mresponse\u001b[0m \u001b[0;34m=\u001b[0m \u001b[0mself\u001b[0m\u001b[0;34m.\u001b[0m\u001b[0msagemaker_session\u001b[0m\u001b[0;34m.\u001b[0m\u001b[0msagemaker_runtime_client\u001b[0m\u001b[0;34m.\u001b[0m\u001b[0minvoke_endpoint\u001b[0m\u001b[0;34m(\u001b[0m\u001b[0;34m**\u001b[0m\u001b[0mrequest_args\u001b[0m\u001b[0;34m)\u001b[0m\u001b[0;34m\u001b[0m\u001b[0m\n\u001b[0m\u001b[1;32m     87\u001b[0m \u001b[0;34m\u001b[0m\u001b[0m\n\u001b[1;32m     88\u001b[0m         \u001b[0mresponse_body\u001b[0m \u001b[0;34m=\u001b[0m \u001b[0mresponse\u001b[0m\u001b[0;34m[\u001b[0m\u001b[0;34m'Body'\u001b[0m\u001b[0;34m]\u001b[0m\u001b[0;34m\u001b[0m\u001b[0m\n",
      "\u001b[0;32m/home/ec2-user/anaconda3/envs/tensorflow_p27/lib/python2.7/site-packages/botocore/client.pyc\u001b[0m in \u001b[0;36m_api_call\u001b[0;34m(self, *args, **kwargs)\u001b[0m\n\u001b[1;32m    312\u001b[0m                     \"%s() only accepts keyword arguments.\" % py_operation_name)\n\u001b[1;32m    313\u001b[0m             \u001b[0;31m# The \"self\" in this scope is referring to the BaseClient.\u001b[0m\u001b[0;34m\u001b[0m\u001b[0;34m\u001b[0m\u001b[0m\n\u001b[0;32m--> 314\u001b[0;31m             \u001b[0;32mreturn\u001b[0m \u001b[0mself\u001b[0m\u001b[0;34m.\u001b[0m\u001b[0m_make_api_call\u001b[0m\u001b[0;34m(\u001b[0m\u001b[0moperation_name\u001b[0m\u001b[0;34m,\u001b[0m \u001b[0mkwargs\u001b[0m\u001b[0;34m)\u001b[0m\u001b[0;34m\u001b[0m\u001b[0m\n\u001b[0m\u001b[1;32m    315\u001b[0m \u001b[0;34m\u001b[0m\u001b[0m\n\u001b[1;32m    316\u001b[0m         \u001b[0m_api_call\u001b[0m\u001b[0;34m.\u001b[0m\u001b[0m__name__\u001b[0m \u001b[0;34m=\u001b[0m \u001b[0mstr\u001b[0m\u001b[0;34m(\u001b[0m\u001b[0mpy_operation_name\u001b[0m\u001b[0;34m)\u001b[0m\u001b[0;34m\u001b[0m\u001b[0m\n",
      "\u001b[0;32m/home/ec2-user/anaconda3/envs/tensorflow_p27/lib/python2.7/site-packages/botocore/client.pyc\u001b[0m in \u001b[0;36m_make_api_call\u001b[0;34m(self, operation_name, api_params)\u001b[0m\n\u001b[1;32m    610\u001b[0m             \u001b[0merror_code\u001b[0m \u001b[0;34m=\u001b[0m \u001b[0mparsed_response\u001b[0m\u001b[0;34m.\u001b[0m\u001b[0mget\u001b[0m\u001b[0;34m(\u001b[0m\u001b[0;34m\"Error\"\u001b[0m\u001b[0;34m,\u001b[0m \u001b[0;34m{\u001b[0m\u001b[0;34m}\u001b[0m\u001b[0;34m)\u001b[0m\u001b[0;34m.\u001b[0m\u001b[0mget\u001b[0m\u001b[0;34m(\u001b[0m\u001b[0;34m\"Code\"\u001b[0m\u001b[0;34m)\u001b[0m\u001b[0;34m\u001b[0m\u001b[0m\n\u001b[1;32m    611\u001b[0m             \u001b[0merror_class\u001b[0m \u001b[0;34m=\u001b[0m \u001b[0mself\u001b[0m\u001b[0;34m.\u001b[0m\u001b[0mexceptions\u001b[0m\u001b[0;34m.\u001b[0m\u001b[0mfrom_code\u001b[0m\u001b[0;34m(\u001b[0m\u001b[0merror_code\u001b[0m\u001b[0;34m)\u001b[0m\u001b[0;34m\u001b[0m\u001b[0m\n\u001b[0;32m--> 612\u001b[0;31m             \u001b[0;32mraise\u001b[0m \u001b[0merror_class\u001b[0m\u001b[0;34m(\u001b[0m\u001b[0mparsed_response\u001b[0m\u001b[0;34m,\u001b[0m \u001b[0moperation_name\u001b[0m\u001b[0;34m)\u001b[0m\u001b[0;34m\u001b[0m\u001b[0m\n\u001b[0m\u001b[1;32m    613\u001b[0m         \u001b[0;32melse\u001b[0m\u001b[0;34m:\u001b[0m\u001b[0;34m\u001b[0m\u001b[0m\n\u001b[1;32m    614\u001b[0m             \u001b[0;32mreturn\u001b[0m \u001b[0mparsed_response\u001b[0m\u001b[0;34m\u001b[0m\u001b[0m\n",
      "\u001b[0;31mModelError\u001b[0m: An error occurred (ModelError) when calling the InvokeEndpoint operation: Received server error (500) from model with message \"\". See https://ap-southeast-2.console.aws.amazon.com/cloudwatch/home?region=ap-southeast-2#logEventViewer:group=/aws/sagemaker/Endpoints/sagemaker-tensorflow-2018-10-01-02-17-54-088 in account 167464700695 for more information."
     ]
    }
   ],
   "source": [
    "# iris_predictor.predict(dict(sample0)\n",
    "# iris_predictor.predict(list(sample0.values))\n",
    "# iris_predictor.predict({ u'': [dict(sample0)]}) \n",
    "iris_predictor.predict({u'' : list(sample0.values)})"
   ]
  },
  {
   "cell_type": "code",
   "execution_count": null,
   "metadata": {},
   "outputs": [],
   "source": []
  }
 ],
 "metadata": {
  "kernelspec": {
   "display_name": "conda_tensorflow_p27",
   "language": "python",
   "name": "conda_tensorflow_p27"
  },
  "language_info": {
   "codemirror_mode": {
    "name": "ipython",
    "version": 2
   },
   "file_extension": ".py",
   "mimetype": "text/x-python",
   "name": "python",
   "nbconvert_exporter": "python",
   "pygments_lexer": "ipython2",
   "version": "2.7.15"
  }
 },
 "nbformat": 4,
 "nbformat_minor": 2
}
